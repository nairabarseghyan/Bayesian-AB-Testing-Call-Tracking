{
 "cells": [
  {
   "cell_type": "code",
   "execution_count": null,
   "metadata": {},
   "outputs": [],
   "source": [
    "from abc import ABC, abstractmethod\n",
    "import numpy as np\n",
    "import pandas as pd\n",
    "import matplotlib.pyplot as plt\n",
    "from scipy.stats import norm"
   ]
  },
  {
   "cell_type": "markdown",
   "metadata": {},
   "source": [
    "# Tompson Sampling with Bernoulli Reward"
   ]
  },
  {
   "cell_type": "markdown",
   "metadata": {},
   "source": [
    "## Bandit Class"
   ]
  },
  {
   "cell_type": "code",
   "execution_count": 8,
   "metadata": {},
   "outputs": [],
   "source": [
    "class Bandit(ABC):\n",
    "\n",
    "    @abstractmethod\n",
    "    def __init__(self, reward):\n",
    "        self.reward = reward\n",
    "\n",
    "    @abstractmethod\n",
    "    def __repr__(self):\n",
    "        pass\n",
    "\n",
    "    @abstractmethod\n",
    "    def update(self):\n",
    "        pass"
   ]
  },
  {
   "cell_type": "markdown",
   "metadata": {},
   "source": [
    "## ThompsonArm Class"
   ]
  },
  {
   "cell_type": "code",
   "execution_count": 9,
   "metadata": {},
   "outputs": [],
   "source": [
    "class ThompsonArm(Bandit):\n",
    "    \"\"\"\n",
    "    An implementation of the Thompson Sampling algorithm for multi-armed bandit problems.\n",
    "\n",
    "    Inherits from the Bandit class.\n",
    "    \"\"\"\n",
    "    \n",
    "    def __init__(self, prev_N = 0, prev_x = 0, reward = 1):\n",
    "        \"\"\"\n",
    "        Constructor for the ThompsonSampling class.\n",
    "        \"\"\"\n",
    "        self.N = prev_N\n",
    "        self.sum_x = prev_x\n",
    "        self.reward = reward\n",
    "        \n",
    "    def __repr__(self):\n",
    "        \"\"\"\n",
    "        String representation of the class.\n",
    "        \"\"\"\n",
    "        return f\"A Bandit with {self.m} Win Rate\"\n",
    "\n",
    "\n",
    "    def update(self, x):\n",
    "        \"\"\"\n",
    "        Updates the bandit's posterior mean and precision using the reward received.\n",
    "        \"\"\"\n",
    "        self.N += 1\n",
    "        self.sum_x += x"
   ]
  },
  {
   "cell_type": "markdown",
   "metadata": {},
   "source": [
    "## ThompsonAlgo Class"
   ]
  },
  {
   "cell_type": "code",
   "execution_count": 20,
   "metadata": {},
   "outputs": [],
   "source": [
    "class ThompsonAlgo:\n",
    "    \n",
    "    def __init__(self, arms):\n",
    "        \n",
    "        self.arms = arms\n",
    "      \n",
    "    \n",
    "    def get_best_arm(self):\n",
    "        \n",
    "        mean = [(m.sum_x / m.N) * m.reward if m.N > 0 else 0 for m in self.arms] \n",
    "        \n",
    "        return np.argmax(mean)\n",
    "        "
   ]
  },
  {
   "cell_type": "code",
   "execution_count": 24,
   "metadata": {},
   "outputs": [],
   "source": [
    "a = ThompsonArm()\n",
    "b = ThompsonArm(900, 400)"
   ]
  },
  {
   "cell_type": "code",
   "execution_count": 25,
   "metadata": {},
   "outputs": [],
   "source": [
    "c = ThompsonAlgo([a, b])"
   ]
  },
  {
   "cell_type": "code",
   "execution_count": 26,
   "metadata": {},
   "outputs": [
    {
     "data": {
      "text/plain": [
       "1"
      ]
     },
     "execution_count": 26,
     "metadata": {},
     "output_type": "execute_result"
    }
   ],
   "source": [
    "c.get_best_arm()"
   ]
  },
  {
   "cell_type": "code",
   "execution_count": null,
   "metadata": {},
   "outputs": [],
   "source": []
  }
 ],
 "metadata": {
  "kernelspec": {
   "display_name": "Python 3",
   "language": "python",
   "name": "python3"
  },
  "language_info": {
   "codemirror_mode": {
    "name": "ipython",
    "version": 3
   },
   "file_extension": ".py",
   "mimetype": "text/x-python",
   "name": "python",
   "nbconvert_exporter": "python",
   "pygments_lexer": "ipython3",
   "version": "3.8.5"
  }
 },
 "nbformat": 4,
 "nbformat_minor": 4
}
