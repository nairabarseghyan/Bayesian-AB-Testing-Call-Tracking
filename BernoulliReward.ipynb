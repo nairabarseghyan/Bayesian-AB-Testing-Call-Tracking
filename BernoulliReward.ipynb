{
 "cells": [
  {
   "cell_type": "code",
   "execution_count": 3,
   "metadata": {},
   "outputs": [],
   "source": [
    "import bayesian_ab_testing\n",
    "from bayesian_ab_testing.models.TS_Bernoulli import ThompsonAlgo, ThompsonArm\n",
    "from bayesian_ab_testing.api import cnxn"
   ]
  },
  {
   "cell_type": "markdown",
   "metadata": {},
   "source": [
    "# Tompson Sampling with Bernoulli Reward"
   ]
  },
  {
   "cell_type": "code",
   "execution_count": 9,
   "metadata": {},
   "outputs": [],
   "source": [
    "a = ThompsonArm(2, cnxn, type=\"Instagram\", reward=3, customer_id=0)\n",
    "b = ThompsonArm(3, cnxn, type=\"Facebook\", reward=4, customer_id=0)\n",
    "c = ThompsonArm(4, cnxn, type=\"TikTok\", reward=1, customer_id=0)"
   ]
  },
  {
   "cell_type": "code",
   "execution_count": 11,
   "metadata": {},
   "outputs": [],
   "source": [
    "c = ThompsonAlgo(cnxn, customer_id=0)"
   ]
  },
  {
   "cell_type": "code",
   "execution_count": 12,
   "metadata": {},
   "outputs": [
    {
     "name": "stderr",
     "output_type": "stream",
     "text": [
      "\u001b[38;5;183m2023-12-10 18:57:24,977 - sql_interactions.py - update_table - INFO - (Rows updated: 1) - line: 207\u001b[0m\n",
      "INFO:sql_interactions.py:Rows updated: 1\n"
     ]
    },
    {
     "data": {
      "text/plain": [
       "{'serve_id': 2,\n",
       " 'date_id': 2,\n",
       " 'customer_id': 0,\n",
       " 'arm_id': 3,\n",
       " 'information': None,\n",
       " 'result': None}"
      ]
     },
     "execution_count": 12,
     "metadata": {},
     "output_type": "execute_result"
    }
   ],
   "source": [
    "c.get_best_arm()"
   ]
  }
 ],
 "metadata": {
  "kernelspec": {
   "display_name": "Python 3",
   "language": "python",
   "name": "python3"
  },
  "language_info": {
   "codemirror_mode": {
    "name": "ipython",
    "version": 3
   },
   "file_extension": ".py",
   "mimetype": "text/x-python",
   "name": "python",
   "nbconvert_exporter": "python",
   "pygments_lexer": "ipython3",
   "version": "3.11.3"
  }
 },
 "nbformat": 4,
 "nbformat_minor": 4
}
