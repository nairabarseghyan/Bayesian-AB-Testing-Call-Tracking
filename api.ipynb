{
 "cells": [
  {
   "cell_type": "markdown",
   "metadata": {},
   "source": [
    "# Demo api"
   ]
  },
  {
   "cell_type": "code",
   "execution_count": 1,
   "metadata": {},
   "outputs": [],
   "source": [
    "import AB_Testing\n",
    "import pandas as pd\n",
    "from AB_Testing.data_preperation.data_generator import generate_advertisment, generate_date, generate_source, generate_calls, generate_customer\n",
    "import sqlite3"
   ]
  },
  {
   "cell_type": "code",
   "execution_count": 2,
   "metadata": {},
   "outputs": [
    {
     "data": {
      "text/plain": [
       "{'call_id': 1,\n",
       " 'customer_id': 1,\n",
       " 'phone_number_id': 1,\n",
       " 'source_id': 1,\n",
       " 'call_duration': 671}"
      ]
     },
     "execution_count": 2,
     "metadata": {},
     "output_type": "execute_result"
    }
   ],
   "source": [
    "cust = generate_customer(1)\n",
    "ad = generate_advertisment(1)\n",
    "date = generate_date(1)\n",
    "src = generate_source(1)\n",
    "# alg = {\"AlgorithmID\":[1], \"Description\":[\"Thompson AB\"], \"AlgorithmName\":[\"Thompson\"]}\n",
    "(calls := generate_calls(1, 1, 1, 1, 1))"
   ]
  },
  {
   "cell_type": "code",
   "execution_count": 3,
   "metadata": {},
   "outputs": [],
   "source": [
    "from sqlite3 import OperationalError\n",
    "\n",
    "\n",
    "conn = sqlite3.connect(\"CallTracking.db\")\n",
    "with open(\"AB_Testing/DB/CallTracking.sql\", \"r\") as f:\n",
    "    [conn.execute(\"drop table if exists \" + i + \";\") for i in [\"DimDate\", \"DimAdvertisement\", \"DimSource\", \"DimAlgorithm\", \"DimCustomer\", \"CallTrackingResults\"]]\n",
    "\n",
    "    for statement in \"\\n\".join(f.readlines()).split(\";\"):\n",
    "        try:\n",
    "            conn.execute(statement)\n",
    "        except OperationalError as e:\n",
    "            print(e)\n"
   ]
  },
  {
   "cell_type": "code",
   "execution_count": 4,
   "metadata": {},
   "outputs": [],
   "source": [
    "dim_date = AB_Testing.data_preperation.SqlHandler(\"CallTracking\", \"DimDate\")"
   ]
  },
  {
   "cell_type": "code",
   "execution_count": 5,
   "metadata": {},
   "outputs": [
    {
     "data": {
      "text/plain": [
       "{'CalendarDate': '2023-12-14',\n",
       " 'Year': 2023,\n",
       " 'Day': '14',\n",
       " 'Month': '12',\n",
       " 'Quarter': 4}"
      ]
     },
     "execution_count": 5,
     "metadata": {},
     "output_type": "execute_result"
    }
   ],
   "source": [
    "date"
   ]
  },
  {
   "cell_type": "code",
   "execution_count": 6,
   "metadata": {},
   "outputs": [
    {
     "name": "stderr",
     "output_type": "stream",
     "text": [
      "\u001b[38;5;183m2023-11-03 19:44:20,755 - sql_interactions.py - insert_many - INFO - (BEFORE the column intersection: ['calendardate', 'year', 'day', 'month', 'quarter']) - line: 74\u001b[0m\n",
      "\u001b[38;5;183m2023-11-03 19:44:20,755 - sql_interactions.py - get_table_columns - INFO - (the list of columns: ['DateID', 'CalendarDate', 'Month', 'Quarter', 'Year']) - line: 45\u001b[0m\n",
      "\u001b[38;5;183m2023-11-03 19:44:20,763 - sql_interactions.py - insert_many - INFO - (AFTER the column intersection: ['year', 'month', 'calendardate', 'quarter']) - line: 77\u001b[0m\n",
      "\u001b[38;5;183m2023-11-03 19:44:20,766 - sql_interactions.py - insert_many - INFO - (the shape of the table which is going to be imported (1, 4)) - line: 81\u001b[0m\n",
      "\u001b[38;5;183m2023-11-03 19:44:20,766 - sql_interactions.py - insert_many - INFO - (insert structure: colnames: year, month, calendardate, quarter params: ?, ?, ?, ?) - line: 91\u001b[0m\n",
      "\u001b[38;5;183m2023-11-03 19:44:20,766 - sql_interactions.py - insert_many - INFO - ((2023, '12', '2023-12-14', 4)) - line: 92\u001b[0m\n",
      "\u001b[38;5;183m2023-11-03 19:44:20,766 - sql_interactions.py - insert_many - INFO - (QUERY: INSERT INTO  DimDate (year, month, calendardate, quarter) VALUES (?, ?, ?, ?);) - line: 95\u001b[0m\n",
      "\u001b[33;20m2023-11-03 19:44:20,779 - sql_interactions.py - insert_many - WARNING - (the data is loaded) - line: 108\u001b[0m\n"
     ]
    }
   ],
   "source": [
    "dim_date.insert_many(pd.DataFrame({k:[v] for k, v in date.items()}))"
   ]
  },
  {
   "cell_type": "code",
   "execution_count": 7,
   "metadata": {},
   "outputs": [
    {
     "name": "stderr",
     "output_type": "stream",
     "text": [
      "\u001b[38;5;183m2023-11-03 19:44:20,793 - sql_interactions.py - from_sql_to_pandas - INFO - (the shape of the chunk: (1, 5)) - line: 137\u001b[0m\n",
      "\u001b[33;20m2023-11-03 19:44:20,795 - sql_interactions.py - from_sql_to_pandas - WARNING - (loading the data from SQL is finished) - line: 141\u001b[0m\n",
      "\u001b[38;20m2023-11-03 19:44:20,795 - sql_interactions.py - from_sql_to_pandas - DEBUG - (connection is closed) - line: 142\u001b[0m\n"
     ]
    },
    {
     "data": {
      "text/html": [
       "<div>\n",
       "<style scoped>\n",
       "    .dataframe tbody tr th:only-of-type {\n",
       "        vertical-align: middle;\n",
       "    }\n",
       "\n",
       "    .dataframe tbody tr th {\n",
       "        vertical-align: top;\n",
       "    }\n",
       "\n",
       "    .dataframe thead th {\n",
       "        text-align: right;\n",
       "    }\n",
       "</style>\n",
       "<table border=\"1\" class=\"dataframe\">\n",
       "  <thead>\n",
       "    <tr style=\"text-align: right;\">\n",
       "      <th></th>\n",
       "      <th>DateID</th>\n",
       "      <th>CalendarDate</th>\n",
       "      <th>Month</th>\n",
       "      <th>Quarter</th>\n",
       "      <th>Year</th>\n",
       "    </tr>\n",
       "  </thead>\n",
       "  <tbody>\n",
       "    <tr>\n",
       "      <th>0</th>\n",
       "      <td>None</td>\n",
       "      <td>2023-12-14</td>\n",
       "      <td>12</td>\n",
       "      <td>4</td>\n",
       "      <td>2023</td>\n",
       "    </tr>\n",
       "  </tbody>\n",
       "</table>\n",
       "</div>"
      ],
      "text/plain": [
       "  DateID CalendarDate  Month  Quarter  Year\n",
       "0   None   2023-12-14     12        4  2023"
      ]
     },
     "execution_count": 7,
     "metadata": {},
     "output_type": "execute_result"
    }
   ],
   "source": [
    "dim_date.from_sql_to_pandas(0, 64)"
   ]
  },
  {
   "cell_type": "code",
   "execution_count": 8,
   "metadata": {},
   "outputs": [
    {
     "name": "stderr",
     "output_type": "stream",
     "text": [
      "\u001b[38;5;183m2023-11-03 19:44:20,816 - sql_interactions.py - close_cnxn - INFO - (commiting the changes) - line: 31\u001b[0m\n",
      "\u001b[38;5;183m2023-11-03 19:44:20,816 - sql_interactions.py - close_cnxn - INFO - (the connection has been closed) - line: 34\u001b[0m\n"
     ]
    }
   ],
   "source": [
    "dim_date.close_cnxn()"
   ]
  },
  {
   "cell_type": "code",
   "execution_count": 9,
   "metadata": {},
   "outputs": [
    {
     "name": "stderr",
     "output_type": "stream",
     "text": [
      "\u001b[38;5;183m2023-11-03 19:44:20,831 - sql_interactions.py - insert_many - INFO - (BEFORE the column intersection: ['advertisementid', 'advertisementtype']) - line: 74\u001b[0m\n",
      "\u001b[38;5;183m2023-11-03 19:44:20,831 - sql_interactions.py - get_table_columns - INFO - (the list of columns: ['AdvertisementID', 'AdvertisementType', 'Budget']) - line: 45\u001b[0m\n",
      "\u001b[38;5;183m2023-11-03 19:44:20,836 - sql_interactions.py - insert_many - INFO - (AFTER the column intersection: ['advertisementtype', 'advertisementid']) - line: 77\u001b[0m\n",
      "\u001b[38;5;183m2023-11-03 19:44:20,838 - sql_interactions.py - insert_many - INFO - (the shape of the table which is going to be imported (1, 2)) - line: 81\u001b[0m\n",
      "\u001b[38;5;183m2023-11-03 19:44:20,839 - sql_interactions.py - insert_many - INFO - (insert structure: colnames: advertisementtype, advertisementid params: ?, ?) - line: 91\u001b[0m\n",
      "\u001b[38;5;183m2023-11-03 19:44:20,841 - sql_interactions.py - insert_many - INFO - (('member', 1)) - line: 92\u001b[0m\n",
      "\u001b[38;5;183m2023-11-03 19:44:20,841 - sql_interactions.py - insert_many - INFO - (QUERY: INSERT INTO  DimAdvertisement (advertisementtype, advertisementid) VALUES (?, ?);) - line: 95\u001b[0m\n",
      "\u001b[33;20m2023-11-03 19:44:20,848 - sql_interactions.py - insert_many - WARNING - (the data is loaded) - line: 108\u001b[0m\n",
      "\u001b[38;5;183m2023-11-03 19:44:20,851 - sql_interactions.py - from_sql_to_pandas - INFO - (the shape of the chunk: (1, 3)) - line: 137\u001b[0m\n",
      "\u001b[33;20m2023-11-03 19:44:20,851 - sql_interactions.py - from_sql_to_pandas - WARNING - (loading the data from SQL is finished) - line: 141\u001b[0m\n",
      "\u001b[38;20m2023-11-03 19:44:20,851 - sql_interactions.py - from_sql_to_pandas - DEBUG - (connection is closed) - line: 142\u001b[0m\n",
      "\u001b[38;5;183m2023-11-03 19:44:20,856 - sql_interactions.py - close_cnxn - INFO - (commiting the changes) - line: 31\u001b[0m\n",
      "\u001b[38;5;183m2023-11-03 19:44:20,856 - sql_interactions.py - close_cnxn - INFO - (the connection has been closed) - line: 34\u001b[0m\n"
     ]
    },
    {
     "name": "stdout",
     "output_type": "stream",
     "text": [
      "   AdvertisementID AdvertisementType Budget\n",
      "0                1            member   None\n"
     ]
    }
   ],
   "source": [
    "with AB_Testing.data_preperation.SqlHandler(\"CallTracking\", \"DimAdvertisement\") as dim_ad:\n",
    "    dim_ad.insert_many(pd.DataFrame({k:[v] for k, v in ad.items()}))\n",
    "    print(dim_ad.from_sql_to_pandas(0, 64))"
   ]
  },
  {
   "cell_type": "code",
   "execution_count": 10,
   "metadata": {},
   "outputs": [
    {
     "name": "stderr",
     "output_type": "stream",
     "text": [
      "\u001b[38;5;183m2023-11-03 19:44:58,050 - sql_interactions.py - insert_many - INFO - (BEFORE the column intersection: ['sourceid', 'sourcename', 'sourcetype']) - line: 74\u001b[0m\n",
      "\u001b[38;5;183m2023-11-03 19:44:58,057 - sql_interactions.py - get_table_columns - INFO - (the list of columns: ['SourceID', 'SourceName', 'SourceType']) - line: 45\u001b[0m\n",
      "\u001b[38;5;183m2023-11-03 19:44:58,057 - sql_interactions.py - insert_many - INFO - (AFTER the column intersection: ['sourcename', 'sourcetype', 'sourceid']) - line: 77\u001b[0m\n",
      "\u001b[38;5;183m2023-11-03 19:44:58,067 - sql_interactions.py - insert_many - INFO - (the shape of the table which is going to be imported (1, 3)) - line: 81\u001b[0m\n",
      "\u001b[38;5;183m2023-11-03 19:44:58,067 - sql_interactions.py - insert_many - INFO - (insert structure: colnames: sourcename, sourcetype, sourceid params: ?, ?, ?) - line: 91\u001b[0m\n",
      "\u001b[38;5;183m2023-11-03 19:44:58,071 - sql_interactions.py - insert_many - INFO - (('Facebook', 'Online', 1)) - line: 92\u001b[0m\n",
      "\u001b[38;5;183m2023-11-03 19:44:58,072 - sql_interactions.py - insert_many - INFO - (QUERY: INSERT INTO  DimSource (sourcename, sourcetype, sourceid) VALUES (?, ?, ?);) - line: 95\u001b[0m\n",
      "\u001b[33;20m2023-11-03 19:44:58,086 - sql_interactions.py - insert_many - WARNING - (the data is loaded) - line: 108\u001b[0m\n",
      "\u001b[38;5;183m2023-11-03 19:44:58,091 - sql_interactions.py - from_sql_to_pandas - INFO - (the shape of the chunk: (1, 3)) - line: 137\u001b[0m\n",
      "\u001b[33;20m2023-11-03 19:44:58,093 - sql_interactions.py - from_sql_to_pandas - WARNING - (loading the data from SQL is finished) - line: 141\u001b[0m\n",
      "\u001b[38;20m2023-11-03 19:44:58,095 - sql_interactions.py - from_sql_to_pandas - DEBUG - (connection is closed) - line: 142\u001b[0m\n",
      "\u001b[38;5;183m2023-11-03 19:44:58,098 - sql_interactions.py - close_cnxn - INFO - (commiting the changes) - line: 31\u001b[0m\n",
      "\u001b[38;5;183m2023-11-03 19:44:58,105 - sql_interactions.py - close_cnxn - INFO - (the connection has been closed) - line: 34\u001b[0m\n"
     ]
    },
    {
     "name": "stdout",
     "output_type": "stream",
     "text": [
      "   SourceID SourceName SourceType\n",
      "0         1   Facebook     Online\n"
     ]
    }
   ],
   "source": [
    "with AB_Testing.data_preperation.SqlHandler(\"CallTracking\", \"DimSource\") as dim_src:\n",
    "    dim_src.insert_many(pd.DataFrame({k:[v] for k, v in src.items()}))\n",
    "    print(dim_src.from_sql_to_pandas(0, 64))"
   ]
  },
  {
   "cell_type": "code",
   "execution_count": 11,
   "metadata": {},
   "outputs": [
    {
     "name": "stderr",
     "output_type": "stream",
     "text": [
      "\u001b[38;5;183m2023-11-03 19:48:29,585 - sql_interactions.py - insert_many - INFO - (BEFORE the column intersection: ['customerid', 'customer_name', 'location', 'contactinfo']) - line: 74\u001b[0m\n",
      "\u001b[38;5;183m2023-11-03 19:48:29,587 - sql_interactions.py - get_table_columns - INFO - (the list of columns: ['CustomerID', 'CustomerName', 'Location', 'ContactInfo']) - line: 45\u001b[0m\n",
      "\u001b[38;5;183m2023-11-03 19:48:29,588 - sql_interactions.py - insert_many - INFO - (AFTER the column intersection: ['location', 'contactinfo', 'customerid']) - line: 77\u001b[0m\n",
      "\u001b[38;5;183m2023-11-03 19:48:29,591 - sql_interactions.py - insert_many - INFO - (the shape of the table which is going to be imported (1, 3)) - line: 81\u001b[0m\n",
      "\u001b[38;5;183m2023-11-03 19:48:29,593 - sql_interactions.py - insert_many - INFO - (insert structure: colnames: location, contactinfo, customerid params: ?, ?, ?) - line: 91\u001b[0m\n",
      "\u001b[38;5;183m2023-11-03 19:48:29,594 - sql_interactions.py - insert_many - INFO - (('294 Jill Unions', '001-619-552-5910', 1)) - line: 92\u001b[0m\n",
      "\u001b[38;5;183m2023-11-03 19:48:29,597 - sql_interactions.py - insert_many - INFO - (QUERY: INSERT INTO  DimCustomer (location, contactinfo, customerid) VALUES (?, ?, ?);) - line: 95\u001b[0m\n",
      "\u001b[33;20m2023-11-03 19:48:29,605 - sql_interactions.py - insert_many - WARNING - (the data is loaded) - line: 108\u001b[0m\n",
      "\u001b[38;5;183m2023-11-03 19:48:29,608 - sql_interactions.py - from_sql_to_pandas - INFO - (the shape of the chunk: (1, 4)) - line: 137\u001b[0m\n",
      "\u001b[33;20m2023-11-03 19:48:29,608 - sql_interactions.py - from_sql_to_pandas - WARNING - (loading the data from SQL is finished) - line: 141\u001b[0m\n",
      "\u001b[38;20m2023-11-03 19:48:29,610 - sql_interactions.py - from_sql_to_pandas - DEBUG - (connection is closed) - line: 142\u001b[0m\n",
      "\u001b[38;5;183m2023-11-03 19:48:29,612 - sql_interactions.py - close_cnxn - INFO - (commiting the changes) - line: 31\u001b[0m\n",
      "\u001b[38;5;183m2023-11-03 19:48:29,615 - sql_interactions.py - close_cnxn - INFO - (the connection has been closed) - line: 34\u001b[0m\n"
     ]
    },
    {
     "name": "stdout",
     "output_type": "stream",
     "text": [
      "   CustomerID CustomerName         Location       ContactInfo\n",
      "0           1         None  294 Jill Unions  001-619-552-5910\n"
     ]
    }
   ],
   "source": [
    "with AB_Testing.data_preperation.SqlHandler(\"CallTracking\", \"DimCustomer\") as dim_cust:\n",
    "    dim_cust.insert_many(pd.DataFrame({k:[v] for k, v in cust.items()}))\n",
    "    print(dim_cust.from_sql_to_pandas(0, 64))"
   ]
  },
  {
   "cell_type": "code",
   "execution_count": 22,
   "metadata": {},
   "outputs": [
    {
     "name": "stderr",
     "output_type": "stream",
     "text": [
      "\u001b[38;5;183m2023-11-03 19:54:40,114 - sql_interactions.py - insert_many - INFO - (BEFORE the column intersection: ['call_id', 'customer_id', 'phone_number_id', 'source_id', 'call_duration']) - line: 74\u001b[0m\n",
      "\u001b[38;5;183m2023-11-03 19:54:40,121 - sql_interactions.py - get_table_columns - INFO - (the list of columns: ['ResultID', 'DateID', 'AdvertisementID', 'SourceID', 'AlgorithmID', 'CustomerID', 'CallDuration', 'ConversionStatus']) - line: 45\u001b[0m\n",
      "\u001b[38;5;183m2023-11-03 19:54:40,123 - sql_interactions.py - insert_many - INFO - (AFTER the column intersection: []) - line: 77\u001b[0m\n",
      "\u001b[38;5;183m2023-11-03 19:54:40,125 - sql_interactions.py - insert_many - INFO - (the shape of the table which is going to be imported (1, 0)) - line: 81\u001b[0m\n",
      "\u001b[38;5;183m2023-11-03 19:54:40,129 - sql_interactions.py - insert_many - INFO - (insert structure: colnames: [] params: []) - line: 91\u001b[0m\n",
      "\u001b[38;5;183m2023-11-03 19:54:40,130 - sql_interactions.py - insert_many - INFO - (()) - line: 92\u001b[0m\n",
      "\u001b[38;5;183m2023-11-03 19:54:40,132 - sql_interactions.py - insert_many - INFO - (QUERY: INSERT INTO  CallTrackingResults ([]) VALUES ([]);) - line: 95\u001b[0m\n",
      "\u001b[38;5;183m2023-11-03 19:54:40,139 - sql_interactions.py - close_cnxn - INFO - (commiting the changes) - line: 31\u001b[0m\n",
      "\u001b[38;5;183m2023-11-03 19:54:40,139 - sql_interactions.py - close_cnxn - INFO - (the connection has been closed) - line: 34\u001b[0m\n"
     ]
    },
    {
     "ename": "OperationalError",
     "evalue": "table CallTrackingResults has no column named ",
     "output_type": "error",
     "traceback": [
      "\u001b[1;31m---------------------------------------------------------------------------\u001b[0m",
      "\u001b[1;31mOperationalError\u001b[0m                          Traceback (most recent call last)",
      "\u001b[1;32mc:\\Projects\\Bayesian-AB-Testing-Call-Tracking\\api.ipynb Cell 13\u001b[0m line \u001b[0;36m2\n\u001b[0;32m      <a href='vscode-notebook-cell:/c%3A/Projects/Bayesian-AB-Testing-Call-Tracking/api.ipynb#X20sZmlsZQ%3D%3D?line=0'>1</a>\u001b[0m \u001b[39mwith\u001b[39;00m AB_Testing\u001b[39m.\u001b[39mdata_preperation\u001b[39m.\u001b[39mSqlHandler(\u001b[39m\"\u001b[39m\u001b[39mCallTracking\u001b[39m\u001b[39m\"\u001b[39m, \u001b[39m\"\u001b[39m\u001b[39mCallTrackingResults\u001b[39m\u001b[39m\"\u001b[39m) \u001b[39mas\u001b[39;00m call_results:\n\u001b[1;32m----> <a href='vscode-notebook-cell:/c%3A/Projects/Bayesian-AB-Testing-Call-Tracking/api.ipynb#X20sZmlsZQ%3D%3D?line=1'>2</a>\u001b[0m     call_results\u001b[39m.\u001b[39;49minsert_many(pd\u001b[39m.\u001b[39;49mDataFrame({k:[v] \u001b[39mfor\u001b[39;49;00m k, v \u001b[39min\u001b[39;49;00m calls\u001b[39m.\u001b[39;49mitems()}))\n\u001b[0;32m      <a href='vscode-notebook-cell:/c%3A/Projects/Bayesian-AB-Testing-Call-Tracking/api.ipynb#X20sZmlsZQ%3D%3D?line=2'>3</a>\u001b[0m     \u001b[39mprint\u001b[39m(call_results\u001b[39m.\u001b[39mfrom_sql_to_pandas(\u001b[39m0\u001b[39m, \u001b[39m64\u001b[39m))\n",
      "File \u001b[1;32mc:\\Projects\\Bayesian-AB-Testing-Call-Tracking\\AB_Testing\\data_preperation\\sql_interactions.py:97\u001b[0m, in \u001b[0;36mSqlHandler.insert_many\u001b[1;34m(self, df)\u001b[0m\n\u001b[0;32m     93\u001b[0m query\u001b[39m=\u001b[39m\u001b[39mf\u001b[39m\u001b[39m\"\"\"\u001b[39m\u001b[39mINSERT INTO  \u001b[39m\u001b[39m{\u001b[39;00m\u001b[39mself\u001b[39m\u001b[39m.\u001b[39mtable_name\u001b[39m}\u001b[39;00m\u001b[39m (\u001b[39m\u001b[39m{\u001b[39;00mcols\u001b[39m}\u001b[39;00m\u001b[39m) VALUES (\u001b[39m\u001b[39m{\u001b[39;00mparams\u001b[39m}\u001b[39;00m\u001b[39m);\u001b[39m\u001b[39m\"\"\"\u001b[39m\n\u001b[0;32m     95\u001b[0m logger\u001b[39m.\u001b[39minfo(\u001b[39mf\u001b[39m\u001b[39m'\u001b[39m\u001b[39mQUERY: \u001b[39m\u001b[39m{\u001b[39;00mquery\u001b[39m}\u001b[39;00m\u001b[39m'\u001b[39m)\n\u001b[1;32m---> 97\u001b[0m \u001b[39mself\u001b[39m\u001b[39m.\u001b[39mcursor\u001b[39m.\u001b[39mexecutemany(query, values)\n\u001b[0;32m     98\u001b[0m \u001b[39mtry\u001b[39;00m:\n\u001b[0;32m     99\u001b[0m     \u001b[39mfor\u001b[39;00m i \u001b[39min\u001b[39;00m \u001b[39mself\u001b[39m\u001b[39m.\u001b[39mcursor\u001b[39m.\u001b[39mmessages:\n",
      "\u001b[1;31mOperationalError\u001b[0m: table CallTrackingResults has no column named "
     ]
    }
   ],
   "source": [
    "with AB_Testing.data_preperation.SqlHandler(\"CallTracking\", \"CallTrackingResults\") as call_results:\n",
    "    call_results.insert_many(pd.DataFrame({k:[v] for k, v in calls.items()}))\n",
    "    print(call_results.from_sql_to_pandas(0, 64))"
   ]
  },
  {
   "cell_type": "code",
   "execution_count": 23,
   "metadata": {},
   "outputs": [
    {
     "data": {
      "text/html": [
       "<div>\n",
       "<style scoped>\n",
       "    .dataframe tbody tr th:only-of-type {\n",
       "        vertical-align: middle;\n",
       "    }\n",
       "\n",
       "    .dataframe tbody tr th {\n",
       "        vertical-align: top;\n",
       "    }\n",
       "\n",
       "    .dataframe thead th {\n",
       "        text-align: right;\n",
       "    }\n",
       "</style>\n",
       "<table border=\"1\" class=\"dataframe\">\n",
       "  <thead>\n",
       "    <tr style=\"text-align: right;\">\n",
       "      <th></th>\n",
       "      <th>call_id</th>\n",
       "      <th>customer_id</th>\n",
       "      <th>phone_number_id</th>\n",
       "      <th>source_id</th>\n",
       "      <th>call_duration</th>\n",
       "    </tr>\n",
       "  </thead>\n",
       "  <tbody>\n",
       "    <tr>\n",
       "      <th>0</th>\n",
       "      <td>1</td>\n",
       "      <td>1</td>\n",
       "      <td>1</td>\n",
       "      <td>1</td>\n",
       "      <td>671</td>\n",
       "    </tr>\n",
       "  </tbody>\n",
       "</table>\n",
       "</div>"
      ],
      "text/plain": [
       "   call_id  customer_id  phone_number_id  source_id  call_duration\n",
       "0        1            1                1          1            671"
      ]
     },
     "execution_count": 23,
     "metadata": {},
     "output_type": "execute_result"
    }
   ],
   "source": [
    "pd.DataFrame({k:[v] for k, v in calls.items()})"
   ]
  },
  {
   "cell_type": "code",
   "execution_count": null,
   "metadata": {},
   "outputs": [],
   "source": []
  }
 ],
 "metadata": {
  "kernelspec": {
   "display_name": "Python 3",
   "language": "python",
   "name": "python3"
  },
  "language_info": {
   "codemirror_mode": {
    "name": "ipython",
    "version": 3
   },
   "file_extension": ".py",
   "mimetype": "text/x-python",
   "name": "python",
   "nbconvert_exporter": "python",
   "pygments_lexer": "ipython3",
   "version": "3.11.3"
  }
 },
 "nbformat": 4,
 "nbformat_minor": 2
}
