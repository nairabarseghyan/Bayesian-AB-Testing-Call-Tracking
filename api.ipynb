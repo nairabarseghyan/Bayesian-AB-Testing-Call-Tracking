{
 "cells": [
  {
   "cell_type": "markdown",
   "metadata": {},
   "source": [
    "# Demo api"
   ]
  },
  {
   "cell_type": "code",
   "execution_count": 1,
   "metadata": {},
   "outputs": [],
   "source": [
    "import AB_Testing\n",
    "import pandas as pd\n",
    "from AB_Testing.data_preperation.data_generator import generate_advertisment, generate_date, generate_source, generate_calls, generate_customer"
   ]
  },
  {
   "cell_type": "code",
   "execution_count": 2,
   "metadata": {},
   "outputs": [
    {
     "data": {
      "text/plain": [
       "{'call_id': 1,\n",
       " 'customer_id': 1,\n",
       " 'phone_number_id': 1,\n",
       " 'source_id': 1,\n",
       " 'call_duration': 983}"
      ]
     },
     "execution_count": 2,
     "metadata": {},
     "output_type": "execute_result"
    }
   ],
   "source": [
    "cust = generate_customer(1)\n",
    "ad = generate_advertisment(1)\n",
    "date = generate_date(1)\n",
    "src = generate_source(1)\n",
    "(calls := generate_calls(1, 1, 1, 1, 1))"
   ]
  },
  {
   "cell_type": "code",
   "execution_count": 3,
   "metadata": {},
   "outputs": [],
   "source": [
    "dim_date = AB_Testing.data_preperation.SqlHandler(\"CallTracking\", \"DimDate\")"
   ]
  },
  {
   "cell_type": "code",
   "execution_count": 4,
   "metadata": {},
   "outputs": [
    {
     "name": "stderr",
     "output_type": "stream",
     "text": [
      "\u001b[38;5;183m2023-11-02 23:50:33,308 - sql_interactions.py - insert_many - INFO - (BEFORE the column intersection: ['dateid', 'calldate', 'callduration']) - line: 68\u001b[0m\n",
      "\u001b[38;5;183m2023-11-02 23:50:33,309 - sql_interactions.py - get_table_columns - INFO - (the list of columns: []) - line: 39\u001b[0m\n",
      "\u001b[38;5;183m2023-11-02 23:50:33,310 - sql_interactions.py - insert_many - INFO - (AFTER the column intersection: []) - line: 71\u001b[0m\n",
      "\u001b[38;5;183m2023-11-02 23:50:33,311 - sql_interactions.py - insert_many - INFO - (the shape of the table which is going to be imported (1, 0)) - line: 75\u001b[0m\n",
      "\u001b[38;5;183m2023-11-02 23:50:33,313 - sql_interactions.py - insert_many - INFO - (insert structure: colnames: [] params: []) - line: 85\u001b[0m\n",
      "\u001b[38;5;183m2023-11-02 23:50:33,313 - sql_interactions.py - insert_many - INFO - (()) - line: 86\u001b[0m\n",
      "\u001b[38;5;183m2023-11-02 23:50:33,314 - sql_interactions.py - insert_many - INFO - (QUERY: INSERT INTO  DimDate ([]) VALUES ([]);) - line: 89\u001b[0m\n"
     ]
    },
    {
     "ename": "OperationalError",
     "evalue": "no such table: DimDate",
     "output_type": "error",
     "traceback": [
      "\u001b[1;31m---------------------------------------------------------------------------\u001b[0m",
      "\u001b[1;31mOperationalError\u001b[0m                          Traceback (most recent call last)",
      "\u001b[1;32mc:\\Projects\\Bayesian-AB-Testing-Call-Tracking\\api.ipynb Cell 5\u001b[0m line \u001b[0;36m1\n\u001b[1;32m----> <a href='vscode-notebook-cell:/c%3A/Projects/Bayesian-AB-Testing-Call-Tracking/api.ipynb#W5sZmlsZQ%3D%3D?line=0'>1</a>\u001b[0m dim_date\u001b[39m.\u001b[39;49minsert_many(pd\u001b[39m.\u001b[39;49mDataFrame({k:[v] \u001b[39mfor\u001b[39;49;00m k, v \u001b[39min\u001b[39;49;00m date\u001b[39m.\u001b[39;49mitems()}))\n",
      "File \u001b[1;32mc:\\Projects\\Bayesian-AB-Testing-Call-Tracking\\AB_Testing\\data_preperation\\sql_interactions.py:91\u001b[0m, in \u001b[0;36mSqlHandler.insert_many\u001b[1;34m(self, df)\u001b[0m\n\u001b[0;32m     87\u001b[0m query\u001b[39m=\u001b[39m\u001b[39mf\u001b[39m\u001b[39m\"\"\"\u001b[39m\u001b[39mINSERT INTO  \u001b[39m\u001b[39m{\u001b[39;00m\u001b[39mself\u001b[39m\u001b[39m.\u001b[39mtable_name\u001b[39m}\u001b[39;00m\u001b[39m (\u001b[39m\u001b[39m{\u001b[39;00mcols\u001b[39m}\u001b[39;00m\u001b[39m) VALUES (\u001b[39m\u001b[39m{\u001b[39;00mparams\u001b[39m}\u001b[39;00m\u001b[39m);\u001b[39m\u001b[39m\"\"\"\u001b[39m\n\u001b[0;32m     89\u001b[0m logger\u001b[39m.\u001b[39minfo(\u001b[39mf\u001b[39m\u001b[39m'\u001b[39m\u001b[39mQUERY: \u001b[39m\u001b[39m{\u001b[39;00mquery\u001b[39m}\u001b[39;00m\u001b[39m'\u001b[39m)\n\u001b[1;32m---> 91\u001b[0m \u001b[39mself\u001b[39;49m\u001b[39m.\u001b[39;49mcursor\u001b[39m.\u001b[39;49mexecutemany(query, values)\n\u001b[0;32m     92\u001b[0m \u001b[39mtry\u001b[39;00m:\n\u001b[0;32m     93\u001b[0m     \u001b[39mfor\u001b[39;00m i \u001b[39min\u001b[39;00m \u001b[39mself\u001b[39m\u001b[39m.\u001b[39mcursor\u001b[39m.\u001b[39mmessages:\n",
      "\u001b[1;31mOperationalError\u001b[0m: no such table: DimDate"
     ]
    }
   ],
   "source": [
    "dim_date.insert_many(pd.DataFrame({k:[v] for k, v in date.items()}))"
   ]
  },
  {
   "cell_type": "code",
   "execution_count": null,
   "metadata": {},
   "outputs": [],
   "source": [
    "# unable to continue, waiting for db to be complete"
   ]
  }
 ],
 "metadata": {
  "kernelspec": {
   "display_name": "Python 3",
   "language": "python",
   "name": "python3"
  },
  "language_info": {
   "codemirror_mode": {
    "name": "ipython",
    "version": 3
   },
   "file_extension": ".py",
   "mimetype": "text/x-python",
   "name": "python",
   "nbconvert_exporter": "python",
   "pygments_lexer": "ipython3",
   "version": "3.11.3"
  }
 },
 "nbformat": 4,
 "nbformat_minor": 2
}
