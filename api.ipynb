{
 "cells": [
  {
   "cell_type": "markdown",
   "metadata": {},
   "source": [
    "# Demo api"
   ]
  },
  {
   "cell_type": "code",
   "execution_count": 1,
   "metadata": {},
   "outputs": [],
   "source": [
    "import AB_Testing\n",
    "import pandas as pd\n",
    "from AB_Testing.data_preperation.data_generator import generate_advertisment, generate_date, generate_source, generate_calls, generate_customer\n",
    "import sqlite3"
   ]
  },
  {
   "cell_type": "code",
   "execution_count": 2,
   "metadata": {},
   "outputs": [
    {
     "data": {
      "text/plain": [
       "{'call_id': 1,\n",
       " 'customer_id': 1,\n",
       " 'phone_number_id': 1,\n",
       " 'source_id': 1,\n",
       " 'call_duration': 472}"
      ]
     },
     "execution_count": 2,
     "metadata": {},
     "output_type": "execute_result"
    }
   ],
   "source": [
    "cust = generate_customer(1)\n",
    "ad = generate_advertisment(1)\n",
    "date = generate_date(1)\n",
    "src = generate_source(1)\n",
    "(calls := generate_calls(1, 1, 1, 1, 1))"
   ]
  },
  {
   "cell_type": "code",
   "execution_count": 3,
   "metadata": {},
   "outputs": [],
   "source": [
    "from sqlite3 import OperationalError\n",
    "\n",
    "\n",
    "conn = sqlite3.connect(\"CallTracking.db\")\n",
    "with open(\"AB_Testing/DB/CallTracking.sql\", \"r\") as f:\n",
    "    [conn.execute(\"drop table if exists \" + i + \";\") for i in [\"DimDate\", \"DimAdvertisement\", \"DimSource\", \"DimAlgorithm\", \"DimCustomer\", \"CallTrackingResults\"]]\n",
    "\n",
    "    for statement in \"\\n\".join(f.readlines()).split(\";\"):\n",
    "        try:\n",
    "            conn.execute(statement)\n",
    "        except OperationalError as e:\n",
    "            print(e)\n"
   ]
  },
  {
   "cell_type": "code",
   "execution_count": 4,
   "metadata": {},
   "outputs": [],
   "source": [
    "dim_date = AB_Testing.data_preperation.SqlHandler(\"CallTracking\", \"DimDate\")"
   ]
  },
  {
   "cell_type": "code",
   "execution_count": 5,
   "metadata": {},
   "outputs": [
    {
     "data": {
      "text/plain": [
       "{'CalendarDate': '2023-05-14',\n",
       " 'Year': 2023,\n",
       " 'Day': '14',\n",
       " 'Month': '05',\n",
       " 'Quarter': 2}"
      ]
     },
     "execution_count": 5,
     "metadata": {},
     "output_type": "execute_result"
    }
   ],
   "source": [
    "date"
   ]
  },
  {
   "cell_type": "code",
   "execution_count": 6,
   "metadata": {},
   "outputs": [
    {
     "name": "stderr",
     "output_type": "stream",
     "text": [
      "\u001b[38;5;183m2023-11-03 19:36:14,174 - sql_interactions.py - insert_many - INFO - (BEFORE the column intersection: ['calendardate', 'year', 'day', 'month', 'quarter']) - line: 68\u001b[0m\n",
      "\u001b[38;5;183m2023-11-03 19:36:14,174 - sql_interactions.py - get_table_columns - INFO - (the list of columns: ['DateID', 'CalendarDate', 'Month', 'Quarter', 'Year']) - line: 39\u001b[0m\n",
      "\u001b[38;5;183m2023-11-03 19:36:14,179 - sql_interactions.py - insert_many - INFO - (AFTER the column intersection: ['calendardate', 'year', 'quarter', 'month']) - line: 71\u001b[0m\n",
      "\u001b[38;5;183m2023-11-03 19:36:14,184 - sql_interactions.py - insert_many - INFO - (the shape of the table which is going to be imported (1, 4)) - line: 75\u001b[0m\n",
      "\u001b[38;5;183m2023-11-03 19:36:14,185 - sql_interactions.py - insert_many - INFO - (insert structure: colnames: calendardate, year, quarter, month params: ?, ?, ?, ?) - line: 85\u001b[0m\n",
      "\u001b[38;5;183m2023-11-03 19:36:14,187 - sql_interactions.py - insert_many - INFO - (('2023-05-14', 2023, 2, '05')) - line: 86\u001b[0m\n",
      "\u001b[38;5;183m2023-11-03 19:36:14,187 - sql_interactions.py - insert_many - INFO - (QUERY: INSERT INTO  DimDate (calendardate, year, quarter, month) VALUES (?, ?, ?, ?);) - line: 89\u001b[0m\n",
      "\u001b[33;20m2023-11-03 19:36:14,195 - sql_interactions.py - insert_many - WARNING - (the data is loaded) - line: 102\u001b[0m\n"
     ]
    }
   ],
   "source": [
    "dim_date.insert_many(pd.DataFrame({k:[v] for k, v in date.items()}))"
   ]
  },
  {
   "cell_type": "code",
   "execution_count": 7,
   "metadata": {},
   "outputs": [
    {
     "name": "stderr",
     "output_type": "stream",
     "text": [
      "\u001b[38;5;183m2023-11-03 19:36:14,213 - sql_interactions.py - from_sql_to_pandas - INFO - (the shape of the chunk: (1, 5)) - line: 131\u001b[0m\n",
      "\u001b[33;20m2023-11-03 19:36:14,213 - sql_interactions.py - from_sql_to_pandas - WARNING - (loading the data from SQL is finished) - line: 135\u001b[0m\n",
      "\u001b[38;20m2023-11-03 19:36:14,215 - sql_interactions.py - from_sql_to_pandas - DEBUG - (connection is closed) - line: 136\u001b[0m\n"
     ]
    },
    {
     "data": {
      "text/html": [
       "<div>\n",
       "<style scoped>\n",
       "    .dataframe tbody tr th:only-of-type {\n",
       "        vertical-align: middle;\n",
       "    }\n",
       "\n",
       "    .dataframe tbody tr th {\n",
       "        vertical-align: top;\n",
       "    }\n",
       "\n",
       "    .dataframe thead th {\n",
       "        text-align: right;\n",
       "    }\n",
       "</style>\n",
       "<table border=\"1\" class=\"dataframe\">\n",
       "  <thead>\n",
       "    <tr style=\"text-align: right;\">\n",
       "      <th></th>\n",
       "      <th>DateID</th>\n",
       "      <th>CalendarDate</th>\n",
       "      <th>Month</th>\n",
       "      <th>Quarter</th>\n",
       "      <th>Year</th>\n",
       "    </tr>\n",
       "  </thead>\n",
       "  <tbody>\n",
       "    <tr>\n",
       "      <th>0</th>\n",
       "      <td>None</td>\n",
       "      <td>2023-05-14</td>\n",
       "      <td>5</td>\n",
       "      <td>2</td>\n",
       "      <td>2023</td>\n",
       "    </tr>\n",
       "  </tbody>\n",
       "</table>\n",
       "</div>"
      ],
      "text/plain": [
       "  DateID CalendarDate  Month  Quarter  Year\n",
       "0   None   2023-05-14      5        2  2023"
      ]
     },
     "execution_count": 7,
     "metadata": {},
     "output_type": "execute_result"
    }
   ],
   "source": [
    "dim_date.from_sql_to_pandas(0, 64)"
   ]
  },
  {
   "cell_type": "code",
   "execution_count": null,
   "metadata": {},
   "outputs": [],
   "source": []
  }
 ],
 "metadata": {
  "kernelspec": {
   "display_name": "Python 3",
   "language": "python",
   "name": "python3"
  },
  "language_info": {
   "codemirror_mode": {
    "name": "ipython",
    "version": 3
   },
   "file_extension": ".py",
   "mimetype": "text/x-python",
   "name": "python",
   "nbconvert_exporter": "python",
   "pygments_lexer": "ipython3",
   "version": "3.11.3"
  }
 },
 "nbformat": 4,
 "nbformat_minor": 2
}
