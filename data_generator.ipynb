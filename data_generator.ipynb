{
 "cells": [
  {
   "cell_type": "markdown",
   "metadata": {},
   "source": [
    "## Loading modules and packages"
   ]
  },
  {
   "cell_type": "code",
   "execution_count": 1,
   "metadata": {},
   "outputs": [],
   "source": [
    "from AB_Testing.data_preperation.data_generator import generate_advertisment\n",
    "from AB_Testing.data_preperation.data_generator import generate_source\n",
    "from AB_Testing.data_preperation.data_generator import generate_customer\n",
    "from AB_Testing.data_preperation.data_generator import generate_date\n",
    "from AB_Testing.data_preperation.data_generator import generate_calls\n",
    "import pandas as pd\n",
    "import random\n"
   ]
  },
  {
   "cell_type": "markdown",
   "metadata": {},
   "source": [
    "## Declaring Constants"
   ]
  },
  {
   "cell_type": "code",
   "execution_count": 2,
   "metadata": {},
   "outputs": [],
   "source": [
    "NUMBER_OF_CUSTOMERS=2000\n",
    "NUMBER_OF_DATES=200\n",
    "NUMBER_OF_ADS=2\n",
    "NUMBER_OF_SOURCES=7\n",
    "NUMBER_OF_CALLS=10000"
   ]
  },
  {
   "cell_type": "markdown",
   "metadata": {},
   "source": [
    "## Generating Advertisment Data"
   ]
  },
  {
   "cell_type": "code",
   "execution_count": 3,
   "metadata": {},
   "outputs": [],
   "source": [
    "advertisment_data = [generate_advertisment(employee_id) for employee_id in range(NUMBER_OF_ADS)]\n",
    "\n",
    "pd.DataFrame(advertisment_data).to_csv('Data/advertisment_data.csv', index=False)"
   ]
  },
  {
   "cell_type": "markdown",
   "metadata": {},
   "source": [
    "## Generating Source Data"
   ]
  },
  {
   "cell_type": "code",
   "execution_count": 4,
   "metadata": {},
   "outputs": [],
   "source": [
    "source_data = [generate_source(id) for id in range(NUMBER_OF_SOURCES)]\n",
    "\n",
    "pd.DataFrame(source_data).to_csv('Data/source_data.csv', index=False)\n"
   ]
  },
  {
   "cell_type": "markdown",
   "metadata": {},
   "source": [
    "## Generating Customer Data"
   ]
  },
  {
   "cell_type": "code",
   "execution_count": 5,
   "metadata": {},
   "outputs": [],
   "source": [
    "customer_data = [generate_customer(customer_id) for customer_id in range(NUMBER_OF_CUSTOMERS)] \n",
    "pd.DataFrame(customer_data).to_csv('Data/customer_data.csv', index=False)\n"
   ]
  },
  {
   "cell_type": "markdown",
   "metadata": {},
   "source": [
    "## Generating Calls Data"
   ]
  },
  {
   "cell_type": "code",
   "execution_count": 7,
   "metadata": {},
   "outputs": [],
   "source": [
    "calls_data = [generate_calls(id,1,2,3,4) for id in range(NUMBER_OF_CALLS)] \n",
    "pd.DataFrame(calls_data).to_csv('Data/calls_data.csv', index=False)"
   ]
  },
  {
   "cell_type": "markdown",
   "metadata": {},
   "source": []
  }
 ],
 "metadata": {
  "kernelspec": {
   "display_name": "venv",
   "language": "python",
   "name": "python3"
  },
  "language_info": {
   "codemirror_mode": {
    "name": "ipython",
    "version": 3
   },
   "file_extension": ".py",
   "mimetype": "text/x-python",
   "name": "python",
   "nbconvert_exporter": "python",
   "pygments_lexer": "ipython3",
   "version": "3.11.3"
  }
 },
 "nbformat": 4,
 "nbformat_minor": 2
}
